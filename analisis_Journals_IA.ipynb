{
 "cells": [
  {
   "cell_type": "markdown",
   "id": "29ce5bd9",
   "metadata": {},
   "source": [
    "<center><h1>Artificial Intelligence Journals Ranking (2000 - 2021)</h1></center>"
   ]
  },
  {
   "cell_type": "markdown",
   "id": "b6f9820c",
   "metadata": {},
   "source": [
    "<center><h3>Vásquez, V., Cruz, J. & Henao, M.</h3></center>"
   ]
  },
  {
   "cell_type": "markdown",
   "id": "99f4680e",
   "metadata": {},
   "source": [
    "<center><h2 style=\"margin-top:50px;\">Abstract</h2></center>\n",
    "<p>SCImago Journal & Country Rank is a publicly available portal that includes the journals and country scientific indicators developed from the Scopus database. With the dataset used in this document, it is possible to determine the trends of the subtopics covered in the documents published throughout the years and which journals are the most significant in the area.</p>\n",
    "\n",
    "<strong>Keywords:</strong> Artificial Intelligence, Data analisis, Journal ranking"
   ]
  },
  {
   "cell_type": "markdown",
   "id": "2eee2269",
   "metadata": {},
   "source": [
    "<h2>0. Setting Up Environment</h2>"
   ]
  },
  {
   "cell_type": "code",
   "execution_count": 60,
   "id": "4c92c281",
   "metadata": {},
   "outputs": [],
   "source": [
    "# System variables\n",
    "import os \n",
    "from glob import glob\n",
    "\n",
    "# Data processing libraries\n",
    "import numpy as np\n",
    "import pandas as pd\n",
    "\n",
    "# Dataset connection\n",
    "import opendatasets as od\n",
    "\n",
    "# Graphic tools \n",
    "import seaborn as sns\n",
    "import matplotlib as mpl\n",
    "from matplotlib import pyplot as plt"
   ]
  },
  {
   "cell_type": "markdown",
   "id": "49b8c1d8",
   "metadata": {},
   "source": [
    "<h3>0.1. Download Dataset</h3>\n",
    "\n",
    "<p>The dataset is downloaded from Kaggle using the opendatasets library.</p>"
   ]
  },
  {
   "cell_type": "code",
   "execution_count": 61,
   "id": "025cd7af",
   "metadata": {
    "scrolled": true
   },
   "outputs": [
    {
     "name": "stdout",
     "output_type": "stream",
     "text": [
      "Skipping, found downloaded files in \"./dataset\\artificial-intelligence-journals-ranking-20002021\" (use force=True to force download)\n"
     ]
    }
   ],
   "source": [
    "# ================\n",
    "# Download dataset\n",
    "# ================\n",
    "od.download(\"https://www.kaggle.com/datasets/yasirabdaali/artificial-intelligence-journals-ranking-20002021\", \"./dataset\")"
   ]
  },
  {
   "cell_type": "markdown",
   "id": "25710967",
   "metadata": {},
   "source": [
    "<h3>0.2. Reading Dataset</h3>"
   ]
  },
  {
   "cell_type": "code",
   "execution_count": 62,
   "id": "b1d49ddc",
   "metadata": {},
   "outputs": [],
   "source": [
    "def path_csvFiles (PATH = os.getcwd(),EXT = \"*.csv\"):  \n",
    "    \"\"\"\n",
    "    Retrieve all files with a given extension (EXT = *.csv by default) from current\n",
    "    working directory where the process is being implemented, using os.getcwd () \n",
    "    and the glob module, which finds all path names that resemble a specified pattern \n",
    "    according to the rules that are followed in a Unix terminal.\n",
    "    \n",
    "    Returns:6\n",
    "        Returns a list with all the files path of the given extension \n",
    "    \"\"\"\n",
    "    list_paths = []\n",
    "    for path, subdir, files in os.walk(PATH):\n",
    "        for file in glob(os.path.join(path, EXT)):\n",
    "            if file.find(\"scimagojr\") != -1:\n",
    "                list_paths.append(file)\n",
    "    return list_paths\n",
    "\n",
    "\n",
    "def concat_paths(all_paths):\n",
    "    \"\"\"receives a list of file directories with a CSV extension \n",
    "    and creates a dataset by concatenating each file\n",
    "    and assigning each file a year label that is stored in the \"Year\" column,\n",
    "    returning a dataframe\n",
    "\n",
    "    Returns: \n",
    "        Returns a dataframe\n",
    "    \"\"\"\n",
    "\n",
    "    all_df = []\n",
    "    for path in all_paths:\n",
    "        df = pd.read_csv(path, sep = ';')        \n",
    "        df['Year'] = int(path.split()[1])\n",
    "        all_df.append(df)\n",
    "    \n",
    "    df = pd.concat(all_df, ignore_index=True)\n",
    "    return df "
   ]
  },
  {
   "cell_type": "code",
   "execution_count": 63,
   "id": "e7ef8a04",
   "metadata": {},
   "outputs": [],
   "source": [
    "# ===========================================================================\n",
    "# The functions in charge of reading and joining the dataset tables are called\n",
    "# ===========================================================================\n",
    "df = concat_paths(path_csvFiles())"
   ]
  },
  {
   "cell_type": "markdown",
   "id": "b7e564d1",
   "metadata": {},
   "source": [
    "<h2>1. Understanding the dataset</h2>"
   ]
  },
  {
   "cell_type": "code",
   "execution_count": 64,
   "id": "6ae906b8",
   "metadata": {},
   "outputs": [
    {
     "data": {
      "text/plain": [
       "['Rank',\n",
       " 'Sourceid',\n",
       " 'Title',\n",
       " 'Type',\n",
       " 'Issn',\n",
       " 'SJR',\n",
       " 'SJR Quartile',\n",
       " 'H index',\n",
       " 'Total Docs. (2000)',\n",
       " 'Total Docs. (3years)',\n",
       " 'Total Refs.',\n",
       " 'Total Cites (3years)',\n",
       " 'Citable Docs. (3years)',\n",
       " 'Cites / Doc. (2years)',\n",
       " 'Ref. / Doc.',\n",
       " 'Country',\n",
       " 'Region',\n",
       " 'Publisher',\n",
       " 'Coverage',\n",
       " 'Categories',\n",
       " 'Year']"
      ]
     },
     "execution_count": 64,
     "metadata": {},
     "output_type": "execute_result"
    }
   ],
   "source": [
    "# ===========================================\n",
    "# Display the columns that make up the dataset\n",
    "# ===========================================\n",
    "df.columns.values.tolist()[:21]"
   ]
  },
  {
   "cell_type": "markdown",
   "id": "1fb8731f",
   "metadata": {},
   "source": [
    "<ul>\n",
    "    <li><b>Rank:</b>  Consecutive number assigned to records by table </li>\n",
    "    <li><b>Source ID:</b> Scopus Journal ID </li>\n",
    "    <li><b>Title:</b> Journal’s title</li>\n",
    "    <li><b>Type:</b> Type of publication (Journal, Book Series and Conference & Proceedings) </li>\n",
    "    <li><b>ISSN:</b> International Standard Serial Number  </li>\n",
    "    <li><b>SJR:</b> Weighted citations received in year X to documents published in the journal in years X-1, X-2 and X-3.</li>\n",
    "    <li>\n",
    "        <b>SJR Quartile:</b> Each thematic category is divided into quartiles.\n",
    "        <ul>\n",
    "            <li><b>Q1:</b> group made up of the first 25% of the journals on the list. </li>\n",
    "            <li><b>Q2:</b> group that occupies from 25% to 50% </li>\n",
    "            <li><b>Q3:</b> group that is positioned between 50% and 75% </li>\n",
    "            <li><b>Q4:</b> group that is positioned between 75% and 100% </li>\n",
    "        </ul>\n",
    "    </li>\n",
    "</ul>\n",
    "\n",
    "<ul>\n",
    "    <li>\n",
    "        <b>H Index:</b>\n",
    "        The h index expresses the journal's number of articles (h) that have received at least h citations. It quantifies both journal scientific productivity and scientific impact and it is also applicable to scientists, countries, etc.\n",
    "    </li>\n",
    "    <li>\n",
    "        <b>Total Docs. (3years):</b>\n",
    "        Published documents in the three previous years\n",
    "    </li>\n",
    "    <li>\n",
    "        <b>Total Refs:</b>\n",
    "        All the bibliographical references in a journal in the selected period.\n",
    "    </li>\n",
    "    <li>\n",
    "        <b>Total Cites (3years):</b>\n",
    "        Number of citations received in the selected year by a journal to the documents published in the three previous years\n",
    "    </li>\n",
    "    <li>\n",
    "        <b>Citable Docs. (3years):</b>\n",
    "        Number of citable documents published by a journal in the three previous years\n",
    "    </li>\n",
    "    <li>\n",
    "        <b>Cites / Doc. (2years):</b>\n",
    "        Margin between citable documents and the total documents by a journal in the two previous years.\n",
    "    </li>\n",
    "    <li>\n",
    "        <b>Ref. / Doc:</b>\n",
    "        Margin between all the bibliographical references in a journal in the selected period and the total documents published\n",
    "    </li>\n",
    "    <li>\n",
    "        <b>Publisher:</b> Journal Publisher.\n",
    "    </li>\n",
    "    <li>\n",
    "        <b>Coverage:</b>\n",
    "        The length of time, e.g. years, for which journals are published.\n",
    "    </li>\n",
    "    <li>\n",
    "        <b>Categories:</b>\n",
    "        Journal key words\n",
    "    </li>\n",
    "</ul>\n",
    "<br>"
   ]
  },
  {
   "cell_type": "code",
   "execution_count": 65,
   "id": "fa6ead0f",
   "metadata": {},
   "outputs": [
    {
     "data": {
      "text/html": [
       "<div>\n",
       "<style scoped>\n",
       "    .dataframe tbody tr th:only-of-type {\n",
       "        vertical-align: middle;\n",
       "    }\n",
       "\n",
       "    .dataframe tbody tr th {\n",
       "        vertical-align: top;\n",
       "    }\n",
       "\n",
       "    .dataframe thead th {\n",
       "        text-align: right;\n",
       "    }\n",
       "</style>\n",
       "<table border=\"1\" class=\"dataframe\">\n",
       "  <thead>\n",
       "    <tr style=\"text-align: right;\">\n",
       "      <th></th>\n",
       "      <th>Rank</th>\n",
       "      <th>Sourceid</th>\n",
       "      <th>Title</th>\n",
       "      <th>Type</th>\n",
       "      <th>Issn</th>\n",
       "      <th>SJR</th>\n",
       "      <th>SJR Quartile</th>\n",
       "      <th>H index</th>\n",
       "      <th>Total Docs. (2000)</th>\n",
       "      <th>Total Docs. (3years)</th>\n",
       "      <th>...</th>\n",
       "      <th>Total Docs. (2012)</th>\n",
       "      <th>Total Docs. (2013)</th>\n",
       "      <th>Total Docs. (2014)</th>\n",
       "      <th>Total Docs. (2015)</th>\n",
       "      <th>Total Docs. (2016)</th>\n",
       "      <th>Total Docs. (2017)</th>\n",
       "      <th>Total Docs. (2018)</th>\n",
       "      <th>Total Docs. (2019)</th>\n",
       "      <th>Total Docs. (2020)</th>\n",
       "      <th>Total Docs. (2021)</th>\n",
       "    </tr>\n",
       "  </thead>\n",
       "  <tbody>\n",
       "    <tr>\n",
       "      <th>0</th>\n",
       "      <td>1</td>\n",
       "      <td>12872</td>\n",
       "      <td>Cognitive Psychology</td>\n",
       "      <td>journal</td>\n",
       "      <td>10955623, 00100285</td>\n",
       "      <td>3,109</td>\n",
       "      <td>Q1</td>\n",
       "      <td>123</td>\n",
       "      <td>17.0</td>\n",
       "      <td>63</td>\n",
       "      <td>...</td>\n",
       "      <td>NaN</td>\n",
       "      <td>NaN</td>\n",
       "      <td>NaN</td>\n",
       "      <td>NaN</td>\n",
       "      <td>NaN</td>\n",
       "      <td>NaN</td>\n",
       "      <td>NaN</td>\n",
       "      <td>NaN</td>\n",
       "      <td>NaN</td>\n",
       "      <td>NaN</td>\n",
       "    </tr>\n",
       "    <tr>\n",
       "      <th>1</th>\n",
       "      <td>2</td>\n",
       "      <td>22478</td>\n",
       "      <td>Journal of Memory and Language</td>\n",
       "      <td>journal</td>\n",
       "      <td>10960821, 0749596X</td>\n",
       "      <td>2,933</td>\n",
       "      <td>Q1</td>\n",
       "      <td>156</td>\n",
       "      <td>60.0</td>\n",
       "      <td>160</td>\n",
       "      <td>...</td>\n",
       "      <td>NaN</td>\n",
       "      <td>NaN</td>\n",
       "      <td>NaN</td>\n",
       "      <td>NaN</td>\n",
       "      <td>NaN</td>\n",
       "      <td>NaN</td>\n",
       "      <td>NaN</td>\n",
       "      <td>NaN</td>\n",
       "      <td>NaN</td>\n",
       "      <td>NaN</td>\n",
       "    </tr>\n",
       "    <tr>\n",
       "      <th>2</th>\n",
       "      <td>3</td>\n",
       "      <td>24254</td>\n",
       "      <td>IEEE Transactions on Pattern Analysis and Mach...</td>\n",
       "      <td>journal</td>\n",
       "      <td>01628828</td>\n",
       "      <td>1,698</td>\n",
       "      <td>Q1</td>\n",
       "      <td>377</td>\n",
       "      <td>128.0</td>\n",
       "      <td>427</td>\n",
       "      <td>...</td>\n",
       "      <td>NaN</td>\n",
       "      <td>NaN</td>\n",
       "      <td>NaN</td>\n",
       "      <td>NaN</td>\n",
       "      <td>NaN</td>\n",
       "      <td>NaN</td>\n",
       "      <td>NaN</td>\n",
       "      <td>NaN</td>\n",
       "      <td>NaN</td>\n",
       "      <td>NaN</td>\n",
       "    </tr>\n",
       "    <tr>\n",
       "      <th>3</th>\n",
       "      <td>4</td>\n",
       "      <td>24157</td>\n",
       "      <td>Autonomous Agents and Multi-Agent Systems</td>\n",
       "      <td>journal</td>\n",
       "      <td>15737454, 13872532</td>\n",
       "      <td>1,679</td>\n",
       "      <td>Q1</td>\n",
       "      <td>72</td>\n",
       "      <td>14.0</td>\n",
       "      <td>25</td>\n",
       "      <td>...</td>\n",
       "      <td>NaN</td>\n",
       "      <td>NaN</td>\n",
       "      <td>NaN</td>\n",
       "      <td>NaN</td>\n",
       "      <td>NaN</td>\n",
       "      <td>NaN</td>\n",
       "      <td>NaN</td>\n",
       "      <td>NaN</td>\n",
       "      <td>NaN</td>\n",
       "      <td>NaN</td>\n",
       "    </tr>\n",
       "    <tr>\n",
       "      <th>4</th>\n",
       "      <td>5</td>\n",
       "      <td>24242</td>\n",
       "      <td>IEEE Transactions on Fuzzy Systems</td>\n",
       "      <td>journal</td>\n",
       "      <td>10636706</td>\n",
       "      <td>1,582</td>\n",
       "      <td>Q1</td>\n",
       "      <td>202</td>\n",
       "      <td>72.0</td>\n",
       "      <td>180</td>\n",
       "      <td>...</td>\n",
       "      <td>NaN</td>\n",
       "      <td>NaN</td>\n",
       "      <td>NaN</td>\n",
       "      <td>NaN</td>\n",
       "      <td>NaN</td>\n",
       "      <td>NaN</td>\n",
       "      <td>NaN</td>\n",
       "      <td>NaN</td>\n",
       "      <td>NaN</td>\n",
       "      <td>NaN</td>\n",
       "    </tr>\n",
       "  </tbody>\n",
       "</table>\n",
       "<p>5 rows × 42 columns</p>\n",
       "</div>"
      ],
      "text/plain": [
       "   Rank  Sourceid                                              Title     Type  \\\n",
       "0     1     12872                               Cognitive Psychology  journal   \n",
       "1     2     22478                     Journal of Memory and Language  journal   \n",
       "2     3     24254  IEEE Transactions on Pattern Analysis and Mach...  journal   \n",
       "3     4     24157          Autonomous Agents and Multi-Agent Systems  journal   \n",
       "4     5     24242                 IEEE Transactions on Fuzzy Systems  journal   \n",
       "\n",
       "                 Issn    SJR SJR Quartile  H index  Total Docs. (2000)  \\\n",
       "0  10955623, 00100285  3,109           Q1      123                17.0   \n",
       "1  10960821, 0749596X  2,933           Q1      156                60.0   \n",
       "2            01628828  1,698           Q1      377               128.0   \n",
       "3  15737454, 13872532  1,679           Q1       72                14.0   \n",
       "4            10636706  1,582           Q1      202                72.0   \n",
       "\n",
       "   Total Docs. (3years)  ...  Total Docs. (2012)  Total Docs. (2013)  \\\n",
       "0                    63  ...                 NaN                 NaN   \n",
       "1                   160  ...                 NaN                 NaN   \n",
       "2                   427  ...                 NaN                 NaN   \n",
       "3                    25  ...                 NaN                 NaN   \n",
       "4                   180  ...                 NaN                 NaN   \n",
       "\n",
       "   Total Docs. (2014) Total Docs. (2015) Total Docs. (2016)  \\\n",
       "0                 NaN                NaN                NaN   \n",
       "1                 NaN                NaN                NaN   \n",
       "2                 NaN                NaN                NaN   \n",
       "3                 NaN                NaN                NaN   \n",
       "4                 NaN                NaN                NaN   \n",
       "\n",
       "  Total Docs. (2017) Total Docs. (2018) Total Docs. (2019) Total Docs. (2020)  \\\n",
       "0                NaN                NaN                NaN                NaN   \n",
       "1                NaN                NaN                NaN                NaN   \n",
       "2                NaN                NaN                NaN                NaN   \n",
       "3                NaN                NaN                NaN                NaN   \n",
       "4                NaN                NaN                NaN                NaN   \n",
       "\n",
       "  Total Docs. (2021)  \n",
       "0                NaN  \n",
       "1                NaN  \n",
       "2                NaN  \n",
       "3                NaN  \n",
       "4                NaN  \n",
       "\n",
       "[5 rows x 42 columns]"
      ]
     },
     "execution_count": 65,
     "metadata": {},
     "output_type": "execute_result"
    }
   ],
   "source": [
    "df.head(5)"
   ]
  },
  {
   "cell_type": "code",
   "execution_count": 66,
   "id": "d2d3e5c8",
   "metadata": {},
   "outputs": [
    {
     "data": {
      "text/plain": [
       "<AxesSubplot: >"
      ]
     },
     "execution_count": 66,
     "metadata": {},
     "output_type": "execute_result"
    },
    {
     "data": {
      "image/png": "[encoded data removed]",
      "text/plain": [
       "<Figure size 640x480 with 2 Axes>"
      ]
     },
     "metadata": {},
     "output_type": "display_data"
    }
   ],
   "source": [
    "# ===================================================================================================\n",
    "# Plot rectangular df as a color-encoded matrix\n",
    "# Visualization in heatmap of the columns that represent gaps to develop strategies to correct them\n",
    "# ===================================================================================================\n",
    "sns.heatmap(df.notnull())"
   ]
  },
  {
   "cell_type": "code",
   "execution_count": 67,
   "id": "01268c8f",
   "metadata": {},
   "outputs": [
    {
     "data": {
      "text/plain": [
       "<AxesSubplot: >"
      ]
     },
     "execution_count": 67,
     "metadata": {},
     "output_type": "execute_result"
    },
    {
     "data": {
      "image/png": "[encoded data removed]",
      "text/plain": [
       "<Figure size 640x480 with 2 Axes>"
      ]
     },
     "metadata": {},
     "output_type": "display_data"
    }
   ],
   "source": [
    "# ===================================================================================\n",
    "# Plot rectangular df as a color-encoded matrix. \n",
    "# In the Type column, the records that are 'Conference and Proceedings' are searched \n",
    "# and it is identified that in relation to the 'Coverage' and 'Publisher' columns, \n",
    "# most of the empty records are found\n",
    "# ===================================================================================\n",
    "sns.heatmap(df[(df['Type'] == \"conference and proceedings\")][[\"Type\",\"Coverage\",\"Publisher\"]].notnull())"
   ]
  },
  {
   "cell_type": "markdown",
   "id": "abd07b46",
   "metadata": {},
   "source": [
    "<h2>2. Preprocessing data</h2>"
   ]
  },
  {
   "cell_type": "code",
   "execution_count": 68,
   "id": "0cb665f8",
   "metadata": {},
   "outputs": [],
   "source": [
    "# ==================================================\n",
    "# Keep only 'Journal' and 'Book Series' type records\n",
    "# ==================================================\n",
    "df = df.loc[(df['Type'] == 'journal') | (df['Type'] == 'book series')]"
   ]
  },
  {
   "cell_type": "code",
   "execution_count": 69,
   "id": "b7510437",
   "metadata": {},
   "outputs": [],
   "source": [
    "# ========================================================================================\n",
    "# The data of the 'Total Docs.20##' columns is stored in the 'Total Docs column. per year'\n",
    "# ========================================================================================\n",
    "df['Total Docs. per Year'] = df[list(df.filter(regex  = '20'))].fillna('').astype(str).apply(lambda x: \"\".join(x), axis =1)\n",
    "df['Total Docs. per Year'] = df['Total Docs. per Year'].astype(float)"
   ]
  },
  {
   "cell_type": "code",
   "execution_count": 70,
   "id": "fe485157",
   "metadata": {},
   "outputs": [],
   "source": [
    "# ============================================\n",
    "# The columns 'Total Docs.20##' are eliminated\n",
    "# ============================================\n",
    "df.drop(list(df.filter(regex  = '20')), inplace = True, axis=1)"
   ]
  },
  {
   "cell_type": "code",
   "execution_count": 71,
   "id": "c139a58b",
   "metadata": {},
   "outputs": [
    {
     "data": {
      "text/plain": [
       "Rank                        int64\n",
       "Sourceid                    int64\n",
       "Title                      object\n",
       "Type                       object\n",
       "Issn                       object\n",
       "SJR                        object\n",
       "SJR Quartile               object\n",
       "H index                     int64\n",
       "Total Docs. (3years)        int64\n",
       "Total Refs.                 int64\n",
       "Total Cites (3years)        int64\n",
       "Citable Docs. (3years)      int64\n",
       "Cites / Doc. (2years)      object\n",
       "Ref. / Doc.                object\n",
       "Country                    object\n",
       "Region                     object\n",
       "Publisher                  object\n",
       "Coverage                   object\n",
       "Categories                 object\n",
       "Year                        int64\n",
       "Total Docs. per Year      float64\n",
       "dtype: object"
      ]
     },
     "execution_count": 71,
     "metadata": {},
     "output_type": "execute_result"
    }
   ],
   "source": [
    "# ==============================================================\n",
    "# Explore the data type columns and identify an assignment error\n",
    "# ==============================================================\n",
    "df.dtypes"
   ]
  },
  {
   "cell_type": "code",
   "execution_count": 72,
   "id": "e9c4d4e4",
   "metadata": {},
   "outputs": [
    {
     "name": "stdout",
     "output_type": "stream",
     "text": [
      "\u001b[1m SJR:\n",
      "\u001b[0m ['3,109', '2,933', '1,698', '1,679', '1,582', '1,287', '1,192', '1,090', '1,050', '1,018', '0,996', '0,889', '0,844', '0,809', '0,787', '0,722', '0,706', '0,696', '0,680', '0,675', '0,658', '0,632', '0,619', '0,612', '0,586', '0,584', '0,534', '0,532', '0,531', '0,525']\n",
      "\n",
      "\u001b[1m Cites / Doc. (2years):\n",
      "\u001b[0m ['3,61', '2,72', '3,36', '3,76', '1,96', '2,56', '1,27', '1,69', '2,72', '1,94', '2,68', '1,19', '1,23', '1,80', '2,23', '0,58', '0,77', '0,48', '1,91', '0,91', '1,65', '1,54', '1,37', '0,65', '1,31', '1,22', '0,89', '1,82', '0,70', '0,60']\n",
      "\n",
      "\u001b[1m Ref. / Doc.:\n",
      "\u001b[0m ['76,12', '47,17', '32,63', '42,93', '24,28', '34,91', '28,63', '72,90', '36,03', '45,82', '40,75', '35,85', '25,63', '31,15', '39,20', '23,63', '28,85', '21,88', '38,47', '37,19', '22,64', '15,68', '26,57', '31,09', '25,00', '8,99', '21,08', '42,43', '42,27', '22,95']\n",
      "\n"
     ]
    }
   ],
   "source": [
    "# ====================================================================================\n",
    "# Explore the values with the wrong mapping in detail and create a modification scheme\n",
    "# ====================================================================================\n",
    "\n",
    "for i in (5, 12, 13):\n",
    "    print(f\"\\033[1m {df.columns[i]}:\\n\\033[0m {list((df[df.columns[i]]))[:30]}\\n\")"
   ]
  },
  {
   "cell_type": "markdown",
   "id": "ec77c36d",
   "metadata": {},
   "source": [
    "<h2>2.1. Modification scheme</h2>"
   ]
  },
  {
   "cell_type": "code",
   "execution_count": 73,
   "id": "e34f6938",
   "metadata": {},
   "outputs": [],
   "source": [
    "# ===========================================================================\n",
    "# The columns that were as an object with the float data type are established\n",
    "# ===========================================================================\n",
    "df['SJR'] = (df['SJR'].replace(',','.', regex=True).astype(float)).fillna(0)\n",
    "df['Cites / Doc. (2years)'] = (df['Cites / Doc. (2years)'].replace(',','.', regex=True).astype(float))\n",
    "df['Ref. / Doc.'] = (df['Ref. / Doc.'].replace(',','.', regex=True).astype(float))"
   ]
  },
  {
   "cell_type": "code",
   "execution_count": 74,
   "id": "3f6a05ad",
   "metadata": {},
   "outputs": [
    {
     "data": {
      "text/plain": [
       "<AxesSubplot: >"
      ]
     },
     "execution_count": 74,
     "metadata": {},
     "output_type": "execute_result"
    },
    {
     "data": {
      "image/png": "[encoded data removed]",
      "text/plain": [
       "<Figure size 640x480 with 2 Axes>"
      ]
     },
     "metadata": {},
     "output_type": "display_data"
    }
   ],
   "source": [
    "# ======================================================================================================\n",
    "# The heatmap is made to verify the result of the treatment that was given to the columns that had empty\n",
    "# ======================================================================================================\n",
    "sns.heatmap(df.notnull())"
   ]
  },
  {
   "cell_type": "code",
   "execution_count": 75,
   "id": "041ce15d",
   "metadata": {},
   "outputs": [
    {
     "name": "stdout",
     "output_type": "stream",
     "text": [
      "[3575 rows x 12 columns]\n"
     ]
    }
   ],
   "source": [
    "# ===============\n",
    "# Numeric columns\n",
    "# ===============\n",
    "int_df = df.select_dtypes(include=['int64', 'float']).copy()\n",
    "print(f\"[{len(int_df)} rows x {len(int_df.columns)} columns]\")"
   ]
  },
  {
   "cell_type": "code",
   "execution_count": 76,
   "id": "1d57ec9d",
   "metadata": {},
   "outputs": [
    {
     "data": {
      "text/html": [
       "<div>\n",
       "<style scoped>\n",
       "    .dataframe tbody tr th:only-of-type {\n",
       "        vertical-align: middle;\n",
       "    }\n",
       "\n",
       "    .dataframe tbody tr th {\n",
       "        vertical-align: top;\n",
       "    }\n",
       "\n",
       "    .dataframe thead th {\n",
       "        text-align: right;\n",
       "    }\n",
       "</style>\n",
       "<table border=\"1\" class=\"dataframe\">\n",
       "  <thead>\n",
       "    <tr style=\"text-align: right;\">\n",
       "      <th></th>\n",
       "      <th>SJR</th>\n",
       "      <th>H index</th>\n",
       "      <th>Total Docs. per Year</th>\n",
       "    </tr>\n",
       "  </thead>\n",
       "  <tbody>\n",
       "    <tr>\n",
       "      <th>mean</th>\n",
       "      <td>0.656</td>\n",
       "      <td>61.194</td>\n",
       "      <td>88.313</td>\n",
       "    </tr>\n",
       "    <tr>\n",
       "      <th>std</th>\n",
       "      <td>0.842</td>\n",
       "      <td>56.917</td>\n",
       "      <td>156.788</td>\n",
       "    </tr>\n",
       "    <tr>\n",
       "      <th>min</th>\n",
       "      <td>0.000</td>\n",
       "      <td>0.000</td>\n",
       "      <td>0.000</td>\n",
       "    </tr>\n",
       "    <tr>\n",
       "      <th>max</th>\n",
       "      <td>13.206</td>\n",
       "      <td>377.000</td>\n",
       "      <td>1776.000</td>\n",
       "    </tr>\n",
       "  </tbody>\n",
       "</table>\n",
       "</div>"
      ],
      "text/plain": [
       "         SJR  H index Total Docs. per Year\n",
       "mean   0.656   61.194               88.313\n",
       "std    0.842   56.917              156.788\n",
       "min    0.000    0.000                0.000\n",
       "max   13.206  377.000             1776.000"
      ]
     },
     "execution_count": 76,
     "metadata": {},
     "output_type": "execute_result"
    }
   ],
   "source": [
    "# ===========================================================================\n",
    "# Summarize the mean, standard deviation, min and max values in the dataframe\n",
    "# ===========================================================================\n",
    "int_df = int_df.reset_index(drop=True)\n",
    "int_df[['SJR', 'H index', 'Total Docs. per Year']].describe().loc[['mean', 'std', 'min', 'max']].applymap(lambda x: f\"{x:0.3f}\")"
   ]
  },
  {
   "cell_type": "code",
   "execution_count": 77,
   "id": "5fd4e7d5",
   "metadata": {},
   "outputs": [
    {
     "name": "stdout",
     "output_type": "stream",
     "text": [
      "[3575 rows x 9 columns]\n",
      "\n"
     ]
    },
    {
     "data": {
      "text/html": [
       "<div>\n",
       "<style scoped>\n",
       "    .dataframe tbody tr th:only-of-type {\n",
       "        vertical-align: middle;\n",
       "    }\n",
       "\n",
       "    .dataframe tbody tr th {\n",
       "        vertical-align: top;\n",
       "    }\n",
       "\n",
       "    .dataframe thead th {\n",
       "        text-align: right;\n",
       "    }\n",
       "</style>\n",
       "<table border=\"1\" class=\"dataframe\">\n",
       "  <thead>\n",
       "    <tr style=\"text-align: right;\">\n",
       "      <th></th>\n",
       "      <th>Title</th>\n",
       "      <th>Country</th>\n",
       "      <th>Region</th>\n",
       "      <th>Publisher</th>\n",
       "      <th>Categories</th>\n",
       "    </tr>\n",
       "  </thead>\n",
       "  <tbody>\n",
       "    <tr>\n",
       "      <th>count</th>\n",
       "      <td>3575</td>\n",
       "      <td>3575</td>\n",
       "      <td>3575</td>\n",
       "      <td>3528</td>\n",
       "      <td>3575</td>\n",
       "    </tr>\n",
       "    <tr>\n",
       "      <th>unique</th>\n",
       "      <td>273</td>\n",
       "      <td>34</td>\n",
       "      <td>8</td>\n",
       "      <td>134</td>\n",
       "      <td>1033</td>\n",
       "    </tr>\n",
       "  </tbody>\n",
       "</table>\n",
       "</div>"
      ],
      "text/plain": [
       "       Title Country Region Publisher Categories\n",
       "count   3575    3575   3575      3528       3575\n",
       "unique   273      34      8       134       1033"
      ]
     },
     "execution_count": 77,
     "metadata": {},
     "output_type": "execute_result"
    }
   ],
   "source": [
    "# ===================\n",
    "# Categorical columns\n",
    "# ===================\n",
    "obj_df = df.select_dtypes(include=['object']).copy()\n",
    "print(f\"[{len(obj_df)} rows x {len(obj_df.columns)} columns]\\n\")\n",
    "\n",
    "#Categorical description\n",
    "obj_df[['Title', 'Country', 'Region', 'Publisher', 'Categories']].describe().loc[['count', 'unique']]"
   ]
  },
  {
   "cell_type": "code",
   "execution_count": 78,
   "id": "beb8a31e",
   "metadata": {},
   "outputs": [
    {
     "name": "stdout",
     "output_type": "stream",
     "text": [
      "\u001b[1m Title: \n",
      " \u001b[0m ['Journal of Automated Reasoning', 'Journal of Cognitive Science', 'Synthesis Lectures on Artificial Intelligence and Machine Learning', 'International Journal of Information Technology (Singapore)', 'Kybernetes', 'Cognitive Science', 'Journal of Information Systems and Telecommunication', 'Psyche', 'Springer Tracts in Advanced Robotics', 'Nature Machine Intelligence']\n",
      "\n",
      "\u001b[1m Type: \n",
      " \u001b[0m ['book series', 'journal']\n",
      "\n",
      "\u001b[1m Issn: \n",
      " \u001b[0m ['08950849, 26400677', '10645462, 15309185', '10955623, 00100285', '23848766', '23327731', '15356698, 09226389', '2093744X, 15982645', '24686557, 24682322', '02783649, 17413176', '21978441, 16103947']\n",
      "\n",
      "\u001b[1m SJR Quartile: \n",
      " \u001b[0m ['Q4', 'Q3', 'Q1', '-', 'Q2']\n",
      "\n",
      "\u001b[1m Country: \n",
      " \u001b[0m ['Singapore', 'Pakistan', 'Iran', 'Argentina', 'Netherlands', 'Germany', 'Austria', 'Bahrain', 'Switzerland', 'United Kingdom']\n",
      "\n",
      "\u001b[1m Region: \n",
      " \u001b[0m ['Western Europe', 'Africa/Middle East', 'Latin America', 'Middle East', 'Pacific Region', 'Asiatic Region', 'Eastern Europe', 'Northern America']\n",
      "\n",
      "\u001b[1m Publisher: \n",
      " \u001b[0m ['Zita Medical Managent', 'Oxford University Press', 'IOS Press BV', 'IOP Publishing Ltd.', 'IGI Global Publishing', 'Japanese Society for Artificial Intelligence', 'Association for Computing Machinery (ACM)', 'Engineering and Technology Publishing', 'Springer Nature Switzerland AG', 'Northeast University']\n",
      "\n",
      "\u001b[1m Coverage: \n",
      " \u001b[0m ['1978-1980, 1991-2005', '2012-2018', '1978-2021', '2003, 2005-2017', '1992-1993, 1995-2021', '1990-2022', '2015-2021', '2006-2021', '1970-2021', '2005-2006, 2008']\n",
      "\n",
      "\u001b[1m Categories: \n",
      " \u001b[0m ['Electrical and Electronic Engineering (Q2); Artificial Intelligence (Q3); Computer Networks and Communications (Q3); Computer Science Applications (Q3); Information Systems (Q3)', 'Artificial Intelligence (Q1); Industrial and Manufacturing Engineering (Q1); Software (Q1)', 'Artificial Intelligence (Q1); Cognitive Neuroscience (Q1); Computer Vision and Pattern Recognition (Q1); Mathematics (miscellaneous) (Q1)', 'Artificial Intelligence; Biomedical Engineering; Mechanical Engineering', 'Computer Networks and Communications (Q1); Hardware and Architecture (Q1); Artificial Intelligence (Q2); Software (Q2); Theoretical Computer Science (Q2)', 'Artificial Intelligence (Q2); Computer Science Applications (Q2)', 'Artificial Intelligence (Q3); Control and Systems Engineering (Q3); Electrical and Electronic Engineering (Q3); Information Systems and Management (Q3)', 'Electrical and Electronic Engineering (Q1); Media Technology (Q1); Artificial Intelligence (Q2)', 'Engineering (miscellaneous) (Q1); Artificial Intelligence (Q3); Statistics and Probability (Q4)', 'Computer Science Applications (Q2); Hardware and Architecture (Q2); Industrial and Manufacturing Engineering (Q2); Artificial Intelligence (Q3)']\n",
      "\n"
     ]
    }
   ],
   "source": [
    "# =================================\n",
    "# Categorical columns sets overview\n",
    "# =================================\n",
    "i=0\n",
    "while i<len(obj_df.columns):    \n",
    "    print((\"\\033[1m {}: \\n \\033[0m {}\\n\").format(obj_df.columns[i],list(set(obj_df[obj_df.columns[i]]))[:10]))\n",
    "    i+=1"
   ]
  },
  {
   "cell_type": "code",
   "execution_count": 79,
   "id": "24c437e0",
   "metadata": {},
   "outputs": [],
   "source": [
    "# ==============================\n",
    "# Download consolidated dataframe\n",
    "# ==============================\n",
    "df.to_csv('./dataset/journalAI.csv',sep = \";\", index=False)"
   ]
  },
  {
   "cell_type": "markdown",
   "id": "406061bf",
   "metadata": {},
   "source": [
    "<h2>Viz Context</h2>"
   ]
  },
  {
   "cell_type": "markdown",
   "id": "1bda31f1",
   "metadata": {},
   "source": [
    "<h2>References</h2>"
   ]
  }
 ],
 "metadata": {
  "kernelspec": {
   "display_name": "env",
   "language": "python",
   "name": "env"
  },
  "language_info": {
   "codemirror_mode": {
    "name": "ipython",
    "version": 3
   },
   "file_extension": ".py",
   "mimetype": "text/x-python",
   "name": "python",
   "nbconvert_exporter": "python",
   "pygments_lexer": "ipython3",
   "version": "3.10.4"
  },
  "vscode": {
   "interpreter": {
    "hash": "36cf16204b8548560b1c020c4e8fb5b57f0e4c58016f52f2d4be01e192833930"
   }
  }
 },
 "nbformat": 4,
 "nbformat_minor": 5
}
