{
 "cells": [
  {
   "cell_type": "code",
   "execution_count": null,
   "id": "68a00a47",
   "metadata": {},
   "outputs": [],
   "source": [
    "# System variables\n",
    "import os \n",
    "from glob import glob\n",
    "\n",
    "# Data processing libraries\n",
    "import numpy as np\n",
    "import pandas as pd\n",
    "\n",
    "# Dataset connection\n",
    "import opendatasets as od\n",
    "\n",
    "# Graphic tools \n",
    "import seaborn as sns\n",
    "import matplotlib as mpl\n",
    "from matplotlib import pyplot as plt\n",
    "\n",
    "#Final word cloud after all the cleaning and pre-processing\n",
    "from wordcloud import WordCloud, STOPWORDS"
   ]
  },
  {
   "cell_type": "code",
   "execution_count": null,
   "id": "025cd7af",
   "metadata": {
    "scrolled": true
   },
   "outputs": [],
   "source": [
    "# Download dataset\n",
    "od.download(\"https://www.kaggle.com/datasets/yasirabdaali/artificial-intelligence-journals-ranking-20002021\")"
   ]
  },
  {
   "cell_type": "code",
   "execution_count": null,
   "id": "b1d49ddc",
   "metadata": {},
   "outputs": [],
   "source": [
    "def path_csvFiles (PATH = os.getcwd(),EXT = \"*.csv\"):  \n",
    "    \"\"\"\n",
    "    Retrieve all files with a given extension (EXT = *.csv by default) from current\n",
    "    working directory where the process is being implemented, using os.getcwd () \n",
    "    and the glob module, which finds all path names that resemble a specified pattern \n",
    "    according to the rules that are followed in a Unix terminal.\n",
    "    \n",
    "    Returns:\n",
    "        Returns a list with all the files path of the given extension \n",
    "    \"\"\"\n",
    "    list_paths = []\n",
    "    for path, subdir, files in os.walk(PATH):\n",
    "        for file in glob(os.path.join(path, EXT)):\n",
    "            list_paths.append(file)\n",
    "    return list_paths\n",
    "\n",
    "\n",
    "def concat_paths(all_paths):\n",
    "    \"\"\"receives a list of file directories with a CSV extension \n",
    "    and creates a dataset by concatenating each file\n",
    "    and assigning each file a year label that is stored in the \"Year\" column,\n",
    "    returning a dataframe\n",
    "\n",
    "    Returns: \n",
    "        Returns a dataframe\n",
    "    \"\"\"\n",
    "\n",
    "    all_df = []\n",
    "    for path in all_paths:\n",
    "        df = pd.read_csv(path, sep = ';')\n",
    "        df['Year'] = int(path.split()[1])\n",
    "        all_df.append(df)\n",
    "    \n",
    "    df = pd.concat(all_df, ignore_index=True)\n",
    "    return df "
   ]
  },
  {
   "cell_type": "code",
   "execution_count": null,
   "id": "fa6ead0f",
   "metadata": {},
   "outputs": [],
   "source": [
    "df = concat_paths(path_csvFiles())\n",
    "df.head(5)"
   ]
  },
  {
   "cell_type": "code",
   "execution_count": null,
   "id": "d2d3e5c8",
   "metadata": {},
   "outputs": [],
   "source": [
    "#Visualización de las columnas que representan vacios para eliminarlas\n",
    "sns.heatmap(df.notnull())"
   ]
  },
  {
   "cell_type": "code",
   "execution_count": null,
   "id": "c14f12ee",
   "metadata": {},
   "outputs": [],
   "source": [
    "# =============================================================================\n",
    "# Plot rectangular df as a color-encoded matrix. \n",
    "# =============================================================================\n",
    "sns.heatmap(df[(df['Type'] == \"conference and proceedings\")][[\"Type\",\"Coverage\",\"Publisher\"]].notnull())"
   ]
  },
  {
   "cell_type": "code",
   "execution_count": null,
   "id": "0cb665f8",
   "metadata": {},
   "outputs": [],
   "source": [
    "#Preprocessing data\n",
    "\n",
    "#eliminar registros conference\n",
    "df = df.loc[(df['Type'] == 'journal') | (df['Type'] == 'book series')]"
   ]
  },
  {
   "cell_type": "code",
   "execution_count": null,
   "id": "b7510437",
   "metadata": {},
   "outputs": [],
   "source": [
    "#eliminar columnas\n",
    "df.drop(list(df.filter(regex  = '20')), inplace = True, axis=1)\n"
   ]
  },
  {
   "cell_type": "code",
   "execution_count": null,
   "id": "c139a58b",
   "metadata": {},
   "outputs": [],
   "source": [
    "# =============================================================================\n",
    "# Types columns\n",
    "# =============================================================================\n",
    "df.dtypes"
   ]
  },
  {
   "cell_type": "code",
   "execution_count": null,
   "id": "e9c4d4e4",
   "metadata": {},
   "outputs": [],
   "source": [
    "for i in (5, 12, 13):\n",
    "    print(f\"\\033[1m {df.columns[i]}:\\n\\033[0m {list((df[df.columns[i]]))[:30]}\\n\")\n",
    "    "
   ]
  },
  {
   "cell_type": "code",
   "execution_count": null,
   "id": "e34f6938",
   "metadata": {},
   "outputs": [],
   "source": [
    "df['SJR'] = (df['SJR'].replace(',','.', regex=True).astype(float)).fillna(0)"
   ]
  },
  {
   "cell_type": "code",
   "execution_count": null,
   "id": "2bb01cee",
   "metadata": {},
   "outputs": [],
   "source": [
    "df['Cites / Doc. (2years)'] = (df['Cites / Doc. (2years)'].replace(',','.', regex=True).astype(float))\n"
   ]
  },
  {
   "cell_type": "code",
   "execution_count": null,
   "id": "0666d680",
   "metadata": {},
   "outputs": [],
   "source": [
    "df['Ref. / Doc.'] = (df['Ref. / Doc.'].replace(',','.', regex=True).astype(float))"
   ]
  },
  {
   "cell_type": "code",
   "execution_count": null,
   "id": "3f6a05ad",
   "metadata": {},
   "outputs": [],
   "source": [
    "sns.heatmap(df.notnull())"
   ]
  },
  {
   "cell_type": "code",
   "execution_count": null,
   "id": "041ce15d",
   "metadata": {},
   "outputs": [],
   "source": [
    "# =============================================================================\n",
    "# Numeric columns\n",
    "# =============================================================================\n",
    "int_df = df.select_dtypes(include=['int64']).copy()\n",
    "print(f\"[{len(int_df)} rows x {len(int_df.columns)} columns]\")"
   ]
  },
  {
   "cell_type": "code",
   "execution_count": null,
   "id": "1d57ec9d",
   "metadata": {},
   "outputs": [],
   "source": [
    "# =============================================================================\n",
    "# summarize the central tendency, dispersion and shape of a dataset’s distribution.\n",
    "# =============================================================================\n",
    "int_df.describe()"
   ]
  },
  {
   "cell_type": "code",
   "execution_count": null,
   "id": "5fd4e7d5",
   "metadata": {},
   "outputs": [],
   "source": [
    "# =============================================================================\n",
    "# Categorical columns\n",
    "# =============================================================================\n",
    "obj_df = df.select_dtypes(include=['object']).copy()\n",
    "print(f\"[{len(obj_df)} rows x {len(obj_df.columns)} columns]\")\n"
   ]
  },
  {
   "cell_type": "code",
   "execution_count": null,
   "id": "beb8a31e",
   "metadata": {},
   "outputs": [],
   "source": [
    "obj_df.describe()"
   ]
  },
  {
   "cell_type": "code",
   "execution_count": null,
   "id": "24c437e0",
   "metadata": {},
   "outputs": [],
   "source": [
    "# =============================================================================\n",
    "# Categorical columns sets\n",
    "# =============================================================================\n",
    "i=0\n",
    "while i<len(obj_df.columns):    \n",
    "    print((\"\\033[1m {}: \\n \\033[0m {}\\n\").format(obj_df.columns[i],list(set(obj_df[obj_df.columns[i]]))[:30]))\n",
    "    i+=1"
   ]
  },
  {
   "cell_type": "code",
   "execution_count": null,
   "id": "6167cfc4",
   "metadata": {},
   "outputs": [],
   "source": [
    "text = df['Title'].values \n",
    "\n",
    "print(len(set(text)))\n",
    "wordcloud = WordCloud(width = 2000, height = 2000, \n",
    "            background_color = 'white', \n",
    "            stopwords = STOPWORDS, \n",
    "            min_font_size = 2,\n",
    "            max_font_size = 100).generate(str(text)) \n",
    "\n",
    "plt.figure(figsize = (8, 8), facecolor = None) \n",
    "plt.imshow(wordcloud) \n",
    "plt.axis(\"off\") \n",
    "plt.tight_layout(pad = 0) \n",
    "\n",
    "plt.show() \n",
    "\n",
    "print(STOPWORDS)"
   ]
  },
  {
   "cell_type": "code",
   "execution_count": null,
   "id": "2515b591",
   "metadata": {},
   "outputs": [],
   "source": []
  }
 ],
 "metadata": {
  "kernelspec": {
   "display_name": "env",
   "language": "python",
   "name": "env"
  },
  "language_info": {
   "codemirror_mode": {
    "name": "ipython",
    "version": 3
   },
   "file_extension": ".py",
   "mimetype": "text/x-python",
   "name": "python",
   "nbconvert_exporter": "python",
   "pygments_lexer": "ipython3",
   "version": "3.10.4"
  },
  "vscode": {
   "interpreter": {
    "hash": "e2459152038ce4344525439e1f70449deb1386738d0e1502f919a989dd2022a0"
   }
  }
 },
 "nbformat": 4,
 "nbformat_minor": 5
}
